{
 "cells": [
  {
   "cell_type": "code",
   "execution_count": 2,
   "metadata": {},
   "outputs": [],
   "source": [
    "import sympy"
   ]
  },
  {
   "cell_type": "code",
   "execution_count": 3,
   "metadata": {},
   "outputs": [],
   "source": [
    "J, w = sympy.symbols('J, w')"
   ]
  },
  {
   "cell_type": "code",
   "execution_count": 27,
   "metadata": {},
   "outputs": [
    {
     "data": {
      "text/latex": [
       "$\\displaystyle w^{2} + w + e^{w} + \\log{\\left(w \\right)} + \\tan{\\left(w \\right)} + \\left|{w}\\right| + 6$"
      ],
      "text/plain": [
       "w**2 + w + exp(w) + log(w) + tan(w) + Abs(w) + 6"
      ]
     },
     "execution_count": 27,
     "metadata": {},
     "output_type": "execute_result"
    }
   ],
   "source": [
    "J = (w**2 + 15) + (w - 9) + sympy.log(w) + sympy.tan(w) + sympy.Abs(w) + sympy.exp(w)\n",
    "J"
   ]
  },
  {
   "cell_type": "code",
   "execution_count": 28,
   "metadata": {},
   "outputs": [
    {
     "data": {
      "text/latex": [
       "$\\displaystyle 2 w + e^{w} + \\tan^{2}{\\left(w \\right)} + 2 + \\frac{\\left(\\operatorname{re}{\\left(w\\right)} \\frac{d}{d w} \\operatorname{re}{\\left(w\\right)} + \\operatorname{im}{\\left(w\\right)} \\frac{d}{d w} \\operatorname{im}{\\left(w\\right)}\\right) \\operatorname{sign}{\\left(w \\right)}}{w} + \\frac{1}{w}$"
      ],
      "text/plain": [
       "2*w + exp(w) + tan(w)**2 + 2 + (re(w)*Derivative(re(w), w) + im(w)*Derivative(im(w), w))*sign(w)/w + 1/w"
      ]
     },
     "execution_count": 28,
     "metadata": {},
     "output_type": "execute_result"
    }
   ],
   "source": [
    "dJ_dw = sympy.diff(J, w)\n",
    "dJ_dw"
   ]
  },
  {
   "cell_type": "code",
   "execution_count": 29,
   "metadata": {},
   "outputs": [
    {
     "data": {
      "text/latex": [
       "$\\displaystyle \\left. \\frac{d}{d w} \\operatorname{re}{\\left(w\\right)} \\right|_{\\substack{ w=10 }} + \\tan^{2}{\\left(10 \\right)} + \\frac{221}{10} + e^{10}$"
      ],
      "text/plain": [
       "Subs(Derivative(re(w), w), w, 10) + tan(10)**2 + 221/10 + exp(10)"
      ]
     },
     "execution_count": 29,
     "metadata": {},
     "output_type": "execute_result"
    }
   ],
   "source": [
    "dJ_dw.subs([(w, 10)])"
   ]
  },
  {
   "cell_type": "code",
   "execution_count": null,
   "metadata": {},
   "outputs": [],
   "source": []
  }
 ],
 "metadata": {
  "kernelspec": {
   "display_name": "Python 3",
   "language": "python",
   "name": "python3"
  },
  "language_info": {
   "codemirror_mode": {
    "name": "ipython",
    "version": 3
   },
   "file_extension": ".py",
   "mimetype": "text/x-python",
   "name": "python",
   "nbconvert_exporter": "python",
   "pygments_lexer": "ipython3",
   "version": "3.12.6"
  }
 },
 "nbformat": 4,
 "nbformat_minor": 2
}
